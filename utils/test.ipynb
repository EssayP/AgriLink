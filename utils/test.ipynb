{
 "cells": [
  {
   "cell_type": "code",
   "execution_count": null,
   "id": "initial_id",
   "metadata": {
    "collapsed": true
   },
   "outputs": [],
   "source": []
  },
  {
   "cell_type": "code",
   "execution_count": 1,
   "outputs": [
    {
     "name": "stdout",
     "output_type": "stream",
     "text": [
      "rice\n",
      "maize\n",
      "chickpea\n",
      "kidneybeans\n",
      "pigeonpeas\n",
      "mothbeans\n",
      "mungbean\n",
      "blackgram\n",
      "lentil\n",
      "pomegranate\n",
      "banana\n",
      "mango\n",
      "grapes\n",
      "watermelon\n",
      "muskmelon\n",
      "apple\n",
      "orange\n",
      "papaya\n",
      "coconut\n",
      "cotton\n",
      "jute\n",
      "coffee\n"
     ]
    }
   ],
   "source": [
    "import pandas as pd\n",
    "\n",
    "# 读取CSV文件\n",
    "df = pd.read_csv('../Data/Crop_recommendation.csv')\n",
    "\n",
    "# 获取包含标签信息的列名\n",
    "label_column_name = 'label'  # 请根据你的CSV文件中实际的列名进行修改\n",
    "\n",
    "# 提取该列中的唯一值（即所有不重复的标签）\n",
    "unique_labels = df[label_column_name].unique()\n",
    "\n",
    "# 打印所有不重复的标签信息\n",
    "for label in unique_labels:\n",
    "    print(label)\n"
   ],
   "metadata": {
    "collapsed": false,
    "ExecuteTime": {
     "end_time": "2024-04-30T05:45:49.937855Z",
     "start_time": "2024-04-30T05:45:49.250777300Z"
    }
   },
   "id": "c48d2432a255130c"
  },
  {
   "cell_type": "code",
   "execution_count": 2,
   "outputs": [],
   "source": [
    "import pandas as pd\n",
    "# 标签到中文的映射字典\n",
    "label_map = {\n",
    "    'rice': '稻米',\n",
    "    'maize': '玉米',\n",
    "    'chickpea': '鹰嘴豆',\n",
    "    'kidneybeans': '红腰豆',\n",
    "    'pigeonpeas': '鸽豆',\n",
    "    'mothbeans': '豆蛾豆',\n",
    "    'mungbean': '绿豆',\n",
    "    'blackgram': '黑豆',\n",
    "    'lentil': '扁豆',\n",
    "    'pomegranate': '石榴',\n",
    "    'banana': '香蕉',\n",
    "    'mango': '芒果',\n",
    "    'grapes': '葡萄',\n",
    "    'watermelon': '西瓜',\n",
    "    'muskmelon': '甜瓜',\n",
    "    'apple': '苹果',\n",
    "    'orange': '橙子',\n",
    "    'papaya': '木瓜',\n",
    "    'coconut': '椰子',\n",
    "    'cotton': '棉花',\n",
    "    'jute': '黄麻',\n",
    "    'coffee': '咖啡'\n",
    "}\n",
    "df = pd.read_csv('../Data/Crop_recommendation.csv')\n",
    "# 获取包含标签信息的列名\n",
    "label_column_name = 'label'  # 请根据你的CSV文件中实际的列名进行修改\n",
    "\n",
    "# 将标签列中的所有名称替换为对应的英文\n",
    "df[label_column_name] = df[label_column_name].map(label_map)\n",
    "\n",
    "# 保存修改后的CSV文件\n",
    "df.to_csv('../Data/Crop_recommendationCh2.csv', index=False, encoding='utf-8')\n",
    "\n"
   ],
   "metadata": {
    "collapsed": false,
    "ExecuteTime": {
     "end_time": "2024-04-30T05:45:56.877831100Z",
     "start_time": "2024-04-30T05:45:56.837823200Z"
    }
   },
   "id": "262c5ff5e3f6f0e1"
  },
  {
   "cell_type": "code",
   "execution_count": 8,
   "outputs": [],
   "source": [
    "# 标签到中文的映射字典\n",
    "label_map = {\n",
    "    '稻米': 'rice',\n",
    "    '玉米': 'maize',\n",
    "    '鹰嘴豆': 'chickpea',\n",
    "    '红腰豆': 'kidneybeans',\n",
    "    '鸽豆': 'pigeonpeas',\n",
    "    '豆蛾豆': 'mothbeans',\n",
    "    '绿豆': 'mungbean',\n",
    "    '黑豆': 'blackgram',\n",
    "    '扁豆': 'lentil',\n",
    "    '石榴': 'pomegranate',\n",
    "    '香蕉': 'banana',\n",
    "    '芒果': 'mango',\n",
    "    '葡萄': 'grapes',\n",
    "    '西瓜': 'watermelon',\n",
    "    '甜瓜': 'muskmelon',\n",
    "    '苹果': 'apple',\n",
    "    '橙子': 'orange',\n",
    "    '木瓜': 'papaya',\n",
    "    '椰子': 'coconut',\n",
    "    '棉花': 'cotton',\n",
    "    '黄麻': 'jute',\n",
    "    '咖啡': 'coffee'\n",
    "}\n",
    "\n",
    "# 读取CSV文件\n",
    "df = pd.read_csv('../Data/Crop_recommendation.csv')\n",
    "\n",
    "# 获取包含标签信息的列名\n",
    "label_column_name = 'label'  # 请根据你的CSV文件中实际的列名进行修改\n",
    "\n",
    "# 将标签列中的所有名称替换为对应的英文\n",
    "df[label_column_name] = df[label_column_name].map(label_map)\n",
    "\n",
    "# 保存修改后的CSV文件\n",
    "df.to_csv('../Data/Crop_recommendationCh2.csv', index=False, encoding='utf-8')\n"
   ],
   "metadata": {
    "collapsed": false,
    "ExecuteTime": {
     "end_time": "2024-04-30T05:44:44.129808200Z",
     "start_time": "2024-04-30T05:44:44.103202400Z"
    }
   },
   "id": "caf08618ba5b05d9"
  },
  {
   "cell_type": "code",
   "execution_count": 7,
   "outputs": [
    {
     "name": "stdout",
     "output_type": "stream",
     "text": [
      "已将标签转换为中文并保存到 labels_translation.csv 文件中。\n",
      "nan\n"
     ]
    }
   ],
   "source": [
    "print(\"已将标签转换为中文并保存到 labels_translation.csv 文件中。\")\n",
    "\n",
    "df = pd.read_csv('../Data/Crop_recommendationCh2.csv')\n",
    "\n",
    "# 获取包含标签信息的列名\n",
    "label_column_name = 'label'  # 请根据你的CSV文件中实际的列名进行修改\n",
    "\n",
    "# 提取该列中的唯一值（即所有不重复的标签）\n",
    "unique_labels = df[label_column_name].unique()\n",
    "\n",
    "# 打印所有不重复的标签信息\n",
    "for label in unique_labels:\n",
    "    print(label)"
   ],
   "metadata": {
    "collapsed": false,
    "ExecuteTime": {
     "end_time": "2024-04-30T05:44:29.831163100Z",
     "start_time": "2024-04-30T05:44:29.791153900Z"
    }
   },
   "id": "541d7832915be814"
  },
  {
   "cell_type": "code",
   "execution_count": null,
   "outputs": [],
   "source": [],
   "metadata": {
    "collapsed": false
   },
   "id": "70f2139c3fb5e245"
  }
 ],
 "metadata": {
  "kernelspec": {
   "display_name": "Python 3",
   "language": "python",
   "name": "python3"
  },
  "language_info": {
   "codemirror_mode": {
    "name": "ipython",
    "version": 2
   },
   "file_extension": ".py",
   "mimetype": "text/x-python",
   "name": "python",
   "nbconvert_exporter": "python",
   "pygments_lexer": "ipython2",
   "version": "2.7.6"
  }
 },
 "nbformat": 4,
 "nbformat_minor": 5
}
