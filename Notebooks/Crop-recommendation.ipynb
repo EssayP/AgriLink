{
 "cells": [
  {
   "cell_type": "code",
   "execution_count": 1,
   "metadata": {},
   "outputs": [],
   "source": [
    "# Dataset Link : https://www.kaggle.com/atharvaingle/crop-recommendation-dataset"
   ]
  },
  {
   "cell_type": "code",
   "execution_count": 1,
   "metadata": {
    "ExecuteTime": {
     "end_time": "2024-04-30T06:09:14.559387Z",
     "start_time": "2024-04-30T06:09:13.983465600Z"
    }
   },
   "outputs": [
    {
     "data": {
      "text/plain": "    N   P   K  temperature   humidity        ph    rainfall label\n0  90  42  43    20.879744  82.002744  6.502985  202.935536    稻米\n1  85  58  41    21.770462  80.319644  7.038096  226.655537    稻米\n2  60  55  44    23.004459  82.320763  7.840207  263.964248    稻米\n3  74  35  40    26.491096  80.158363  6.980401  242.864034    稻米\n4  78  42  42    20.130175  81.604873  7.628473  262.717340    稻米",
      "text/html": "<div>\n<style scoped>\n    .dataframe tbody tr th:only-of-type {\n        vertical-align: middle;\n    }\n\n    .dataframe tbody tr th {\n        vertical-align: top;\n    }\n\n    .dataframe thead th {\n        text-align: right;\n    }\n</style>\n<table border=\"1\" class=\"dataframe\">\n  <thead>\n    <tr style=\"text-align: right;\">\n      <th></th>\n      <th>N</th>\n      <th>P</th>\n      <th>K</th>\n      <th>temperature</th>\n      <th>humidity</th>\n      <th>ph</th>\n      <th>rainfall</th>\n      <th>label</th>\n    </tr>\n  </thead>\n  <tbody>\n    <tr>\n      <th>0</th>\n      <td>90</td>\n      <td>42</td>\n      <td>43</td>\n      <td>20.879744</td>\n      <td>82.002744</td>\n      <td>6.502985</td>\n      <td>202.935536</td>\n      <td>稻米</td>\n    </tr>\n    <tr>\n      <th>1</th>\n      <td>85</td>\n      <td>58</td>\n      <td>41</td>\n      <td>21.770462</td>\n      <td>80.319644</td>\n      <td>7.038096</td>\n      <td>226.655537</td>\n      <td>稻米</td>\n    </tr>\n    <tr>\n      <th>2</th>\n      <td>60</td>\n      <td>55</td>\n      <td>44</td>\n      <td>23.004459</td>\n      <td>82.320763</td>\n      <td>7.840207</td>\n      <td>263.964248</td>\n      <td>稻米</td>\n    </tr>\n    <tr>\n      <th>3</th>\n      <td>74</td>\n      <td>35</td>\n      <td>40</td>\n      <td>26.491096</td>\n      <td>80.158363</td>\n      <td>6.980401</td>\n      <td>242.864034</td>\n      <td>稻米</td>\n    </tr>\n    <tr>\n      <th>4</th>\n      <td>78</td>\n      <td>42</td>\n      <td>42</td>\n      <td>20.130175</td>\n      <td>81.604873</td>\n      <td>7.628473</td>\n      <td>262.717340</td>\n      <td>稻米</td>\n    </tr>\n  </tbody>\n</table>\n</div>"
     },
     "execution_count": 1,
     "metadata": {},
     "output_type": "execute_result"
    }
   ],
   "source": [
    "import pandas as pd\n",
    "import numpy as np\n",
    "import warnings\n",
    "warnings.filterwarnings('ignore')\n",
    "df = pd.read_csv('../Data/Crop_recommendation.csv')\n",
    "df.head()"
   ]
  },
  {
   "cell_type": "code",
   "execution_count": 2,
   "metadata": {
    "ExecuteTime": {
     "end_time": "2024-04-30T06:09:19.472671400Z",
     "start_time": "2024-04-30T06:09:19.446136600Z"
    }
   },
   "outputs": [
    {
     "data": {
      "text/plain": "N              0\nP              0\nK              0\ntemperature    0\nhumidity       0\nph             0\nrainfall       0\nlabel          0\ndtype: int64"
     },
     "execution_count": 2,
     "metadata": {},
     "output_type": "execute_result"
    }
   ],
   "source": [
    "df.isnull().sum()"
   ]
  },
  {
   "cell_type": "code",
   "execution_count": 3,
   "metadata": {
    "scrolled": true,
    "ExecuteTime": {
     "end_time": "2024-04-30T06:09:19.745046900Z",
     "start_time": "2024-04-30T06:09:19.710039100Z"
    }
   },
   "outputs": [
    {
     "data": {
      "text/plain": "                 N            P            K  temperature     humidity  \\\ncount  2200.000000  2200.000000  2200.000000  2200.000000  2200.000000   \nmean     50.551818    53.362727    48.149091    25.616244    71.481779   \nstd      36.917334    32.985883    50.647931     5.063749    22.263812   \nmin       0.000000     5.000000     5.000000     8.825675    14.258040   \n25%      21.000000    28.000000    20.000000    22.769375    60.261953   \n50%      37.000000    51.000000    32.000000    25.598693    80.473146   \n75%      84.250000    68.000000    49.000000    28.561654    89.948771   \nmax     140.000000   145.000000   205.000000    43.675493    99.981876   \n\n                ph     rainfall  \ncount  2200.000000  2200.000000  \nmean      6.469480   103.463655  \nstd       0.773938    54.958389  \nmin       3.504752    20.211267  \n25%       5.971693    64.551686  \n50%       6.425045    94.867624  \n75%       6.923643   124.267508  \nmax       9.935091   298.560117  ",
      "text/html": "<div>\n<style scoped>\n    .dataframe tbody tr th:only-of-type {\n        vertical-align: middle;\n    }\n\n    .dataframe tbody tr th {\n        vertical-align: top;\n    }\n\n    .dataframe thead th {\n        text-align: right;\n    }\n</style>\n<table border=\"1\" class=\"dataframe\">\n  <thead>\n    <tr style=\"text-align: right;\">\n      <th></th>\n      <th>N</th>\n      <th>P</th>\n      <th>K</th>\n      <th>temperature</th>\n      <th>humidity</th>\n      <th>ph</th>\n      <th>rainfall</th>\n    </tr>\n  </thead>\n  <tbody>\n    <tr>\n      <th>count</th>\n      <td>2200.000000</td>\n      <td>2200.000000</td>\n      <td>2200.000000</td>\n      <td>2200.000000</td>\n      <td>2200.000000</td>\n      <td>2200.000000</td>\n      <td>2200.000000</td>\n    </tr>\n    <tr>\n      <th>mean</th>\n      <td>50.551818</td>\n      <td>53.362727</td>\n      <td>48.149091</td>\n      <td>25.616244</td>\n      <td>71.481779</td>\n      <td>6.469480</td>\n      <td>103.463655</td>\n    </tr>\n    <tr>\n      <th>std</th>\n      <td>36.917334</td>\n      <td>32.985883</td>\n      <td>50.647931</td>\n      <td>5.063749</td>\n      <td>22.263812</td>\n      <td>0.773938</td>\n      <td>54.958389</td>\n    </tr>\n    <tr>\n      <th>min</th>\n      <td>0.000000</td>\n      <td>5.000000</td>\n      <td>5.000000</td>\n      <td>8.825675</td>\n      <td>14.258040</td>\n      <td>3.504752</td>\n      <td>20.211267</td>\n    </tr>\n    <tr>\n      <th>25%</th>\n      <td>21.000000</td>\n      <td>28.000000</td>\n      <td>20.000000</td>\n      <td>22.769375</td>\n      <td>60.261953</td>\n      <td>5.971693</td>\n      <td>64.551686</td>\n    </tr>\n    <tr>\n      <th>50%</th>\n      <td>37.000000</td>\n      <td>51.000000</td>\n      <td>32.000000</td>\n      <td>25.598693</td>\n      <td>80.473146</td>\n      <td>6.425045</td>\n      <td>94.867624</td>\n    </tr>\n    <tr>\n      <th>75%</th>\n      <td>84.250000</td>\n      <td>68.000000</td>\n      <td>49.000000</td>\n      <td>28.561654</td>\n      <td>89.948771</td>\n      <td>6.923643</td>\n      <td>124.267508</td>\n    </tr>\n    <tr>\n      <th>max</th>\n      <td>140.000000</td>\n      <td>145.000000</td>\n      <td>205.000000</td>\n      <td>43.675493</td>\n      <td>99.981876</td>\n      <td>9.935091</td>\n      <td>298.560117</td>\n    </tr>\n  </tbody>\n</table>\n</div>"
     },
     "execution_count": 3,
     "metadata": {},
     "output_type": "execute_result"
    }
   ],
   "source": [
    "df.describe()"
   ]
  },
  {
   "cell_type": "code",
   "execution_count": 4,
   "metadata": {
    "ExecuteTime": {
     "end_time": "2024-04-30T06:09:23.337961Z",
     "start_time": "2024-04-30T06:09:23.322074300Z"
    }
   },
   "outputs": [
    {
     "data": {
      "text/plain": "(2200, 8)"
     },
     "execution_count": 4,
     "metadata": {},
     "output_type": "execute_result"
    }
   ],
   "source": [
    "df.shape"
   ]
  },
  {
   "cell_type": "code",
   "execution_count": 5,
   "metadata": {
    "ExecuteTime": {
     "end_time": "2024-04-30T06:09:25.854296500Z",
     "start_time": "2024-04-30T06:09:24.357566500Z"
    }
   },
   "outputs": [
    {
     "data": {
      "text/plain": "<AxesSubplot:>"
     },
     "execution_count": 5,
     "metadata": {},
     "output_type": "execute_result"
    },
    {
     "data": {
      "text/plain": "<Figure size 640x480 with 1 Axes>",
      "image/png": "[encoded data removed]"
     },
     "metadata": {},
     "output_type": "display_data"
    }
   ],
   "source": [
    "df.boxplot()"
   ]
  },
  {
   "cell_type": "code",
   "execution_count": 6,
   "metadata": {
    "scrolled": false,
    "ExecuteTime": {
     "end_time": "2024-04-30T06:09:27.082855200Z",
     "start_time": "2024-04-30T06:09:26.886937Z"
    }
   },
   "outputs": [
    {
     "data": {
      "text/plain": "array([[<AxesSubplot:title={'center':'N'}>,\n        <AxesSubplot:title={'center':'P'}>,\n        <AxesSubplot:title={'center':'K'}>],\n       [<AxesSubplot:title={'center':'temperature'}>,\n        <AxesSubplot:title={'center':'humidity'}>,\n        <AxesSubplot:title={'center':'ph'}>],\n       [<AxesSubplot:title={'center':'rainfall'}>, <AxesSubplot:>,\n        <AxesSubplot:>]], dtype=object)"
     },
     "execution_count": 6,
     "metadata": {},
     "output_type": "execute_result"
    }
   ],
   "source": [
    "df.hist(figsize=(15,15))"
   ]
  },
  {
   "cell_type": "code",
   "execution_count": 7,
   "metadata": {
    "ExecuteTime": {
     "end_time": "2024-04-30T06:09:30.272827200Z",
     "start_time": "2024-04-30T06:09:30.243815100Z"
    }
   },
   "outputs": [],
   "source": [
    "#Removing Outliers\n",
    "IQR=df.quantile(0.75)-df.quantile(0.25)\n",
    "lower_bridge=df.quantile(0.25)-(IQR*1.5)\n",
    "upper_bridge=df.quantile(0.75)+(IQR*1.5)\n",
    "\n",
    "df = df[~((df < lower_bridge) |(df > upper_bridge)).any(axis=1)]"
   ]
  },
  {
   "cell_type": "code",
   "execution_count": 8,
   "metadata": {
    "scrolled": false,
    "ExecuteTime": {
     "end_time": "2024-04-30T06:09:30.589802800Z",
     "start_time": "2024-04-30T06:09:30.538791700Z"
    }
   },
   "outputs": [
    {
     "data": {
      "text/plain": "<AxesSubplot:>"
     },
     "execution_count": 8,
     "metadata": {},
     "output_type": "execute_result"
    }
   ],
   "source": [
    "df.boxplot(figsize=(12,7))"
   ]
  },
  {
   "cell_type": "code",
   "execution_count": 9,
   "metadata": {
    "ExecuteTime": {
     "end_time": "2024-04-30T06:09:32.109324600Z",
     "start_time": "2024-04-30T06:09:32.083318800Z"
    }
   },
   "outputs": [
    {
     "data": {
      "text/plain": "array(['稻米', '玉米', '鹰嘴豆', '红腰豆', '鸽豆', '豆蛾豆', '绿豆', '黑豆', '扁豆', '石榴',\n       '香蕉', '芒果', '西瓜', '甜瓜', '橙子', '木瓜', '椰子', '棉花', '黄麻', '咖啡'],\n      dtype=object)"
     },
     "execution_count": 9,
     "metadata": {},
     "output_type": "execute_result"
    }
   ],
   "source": [
    "df['label'].unique()"
   ]
  },
  {
   "cell_type": "code",
   "execution_count": 10,
   "metadata": {
    "ExecuteTime": {
     "end_time": "2024-04-30T06:09:35.116557300Z",
     "start_time": "2024-04-30T06:09:35.091244400Z"
    }
   },
   "outputs": [
    {
     "data": {
      "text/plain": "红腰豆    100\n黑豆     100\n玉米     100\n咖啡     100\n棉花     100\n西瓜     100\n扁豆     100\n香蕉     100\n鸽豆     100\n甜瓜     100\n石榴     100\n绿豆     100\n黄麻     100\n芒果      98\n椰子      85\n橙子      83\n豆蛾豆     58\n鹰嘴豆     58\n木瓜      54\n稻米      32\nName: label, dtype: int64"
     },
     "execution_count": 10,
     "metadata": {},
     "output_type": "execute_result"
    }
   ],
   "source": [
    "df['label'].value_counts()"
   ]
  },
  {
   "cell_type": "code",
   "execution_count": 11,
   "metadata": {
    "ExecuteTime": {
     "end_time": "2024-04-30T06:09:36.924228500Z",
     "start_time": "2024-04-30T06:09:36.909657900Z"
    }
   },
   "outputs": [],
   "source": [
    "X = df.drop(['label'], axis = 1)\n",
    "Y = df['label']\n",
    "labels = df['label']"
   ]
  },
  {
   "cell_type": "code",
   "execution_count": 12,
   "metadata": {
    "ExecuteTime": {
     "end_time": "2024-04-30T06:09:38.339570600Z",
     "start_time": "2024-04-30T06:09:37.474955300Z"
    }
   },
   "outputs": [],
   "source": [
    "from sklearn.model_selection import train_test_split\n",
    "Xtrain, Xtest, Ytrain, Ytest = train_test_split(X,Y,test_size = 0.25,random_state =2)"
   ]
  },
  {
   "cell_type": "code",
   "execution_count": 13,
   "metadata": {
    "ExecuteTime": {
     "end_time": "2024-04-30T06:09:41.276008400Z",
     "start_time": "2024-04-30T06:09:41.050957400Z"
    }
   },
   "outputs": [
    {
     "data": {
      "text/plain": "1.0"
     },
     "execution_count": 13,
     "metadata": {},
     "output_type": "execute_result"
    }
   ],
   "source": [
    "#Random Forest Classifier\n",
    "from sklearn.ensemble import RandomForestClassifier\n",
    "\n",
    "RF = RandomForestClassifier(n_estimators=20, random_state=0)\n",
    "RF.fit(Xtrain,Ytrain)\n",
    "\n",
    "predicted_values = RF.predict(Xtest)\n",
    "from sklearn import metrics\n",
    "acc_score = metrics.accuracy_score(Ytest,predicted_values)\n",
    "acc_score"
   ]
  },
  {
   "cell_type": "raw",
   "metadata": {},
   "source": [
    "from sklearn.metrics import classification_report\n",
    "print(classification_report(Ytest,predicted_values))"
   ]
  },
  {
   "cell_type": "code",
   "execution_count": 14,
   "metadata": {
    "ExecuteTime": {
     "end_time": "2024-04-30T06:09:45.596614100Z",
     "start_time": "2024-04-30T06:09:45.564608100Z"
    }
   },
   "outputs": [
    {
     "data": {
      "text/plain": "0.9705882352941176"
     },
     "execution_count": 14,
     "metadata": {},
     "output_type": "execute_result"
    }
   ],
   "source": [
    "#Decision tree\n",
    "from sklearn.tree import DecisionTreeClassifier\n",
    "\n",
    "DecisionTree = DecisionTreeClassifier(criterion=\"entropy\",random_state=2,max_depth=5)\n",
    "\n",
    "DecisionTree.fit(Xtrain,Ytrain)\n",
    "\n",
    "predicted_values = DecisionTree.predict(Xtest)\n",
    "acc_score = metrics.accuracy_score(Ytest,predicted_values)\n",
    "acc_score"
   ]
  },
  {
   "cell_type": "code",
   "execution_count": 15,
   "metadata": {
    "ExecuteTime": {
     "end_time": "2024-04-30T06:09:47.715992100Z",
     "start_time": "2024-04-30T06:09:47.693987Z"
    }
   },
   "outputs": [
    {
     "data": {
      "text/plain": "0.995475113122172"
     },
     "execution_count": 15,
     "metadata": {},
     "output_type": "execute_result"
    }
   ],
   "source": [
    "#Guassian Naive Bayes \n",
    "from sklearn.naive_bayes import GaussianNB\n",
    "\n",
    "NaiveBayes = GaussianNB()\n",
    "\n",
    "NaiveBayes.fit(Xtrain,Ytrain)\n",
    "\n",
    "predicted_values = NaiveBayes.predict(Xtest)\n",
    "acc_score = metrics.accuracy_score(Ytest,predicted_values)\n",
    "acc_score"
   ]
  },
  {
   "cell_type": "code",
   "execution_count": 16,
   "metadata": {
    "ExecuteTime": {
     "end_time": "2024-04-30T06:09:48.484793800Z",
     "start_time": "2024-04-30T06:09:48.234736900Z"
    }
   },
   "outputs": [
    {
     "data": {
      "text/plain": "0.09502262443438914"
     },
     "execution_count": 16,
     "metadata": {},
     "output_type": "execute_result"
    }
   ],
   "source": [
    "#SVC\n",
    "from sklearn.svm import SVC\n",
    "\n",
    "SVM = SVC(gamma='auto')\n",
    "SVM.fit(Xtrain,Ytrain)\n",
    "predicted_values = SVM.predict(Xtest)\n",
    "\n",
    "acc_score = metrics.accuracy_score(Ytest,predicted_values)\n",
    "acc_score"
   ]
  },
  {
   "cell_type": "code",
   "execution_count": 17,
   "metadata": {
    "ExecuteTime": {
     "end_time": "2024-04-30T06:09:49.516624Z",
     "start_time": "2024-04-30T06:09:49.401981400Z"
    }
   },
   "outputs": [
    {
     "data": {
      "text/plain": "0.9660633484162896"
     },
     "execution_count": 17,
     "metadata": {},
     "output_type": "execute_result"
    }
   ],
   "source": [
    "#Logistic Regression\n",
    "from sklearn.linear_model import LogisticRegression\n",
    "\n",
    "LogReg = LogisticRegression(random_state=2)\n",
    "LogReg.fit(Xtrain,Ytrain)\n",
    "predicted_values = LogReg.predict(Xtest)\n",
    "acc_score = metrics.accuracy_score(Ytest,predicted_values)\n",
    "acc_score"
   ]
  },
  {
   "cell_type": "code",
   "execution_count": 18,
   "metadata": {
    "ExecuteTime": {
     "end_time": "2024-04-30T06:09:50.631183Z",
     "start_time": "2024-04-30T06:09:50.613179300Z"
    }
   },
   "outputs": [],
   "source": [
    "# Saving the Model.pkl file\n",
    "import pickle\n",
    "\n",
    "model = open('../Models/model.pkl', 'wb')\n",
    "pickle.dump(RF, model)\n",
    "\n",
    "model.close()"
   ]
  },
  {
   "cell_type": "code",
   "execution_count": null,
   "metadata": {},
   "outputs": [],
   "source": []
  }
 ],
 "metadata": {
  "kernelspec": {
   "display_name": "Python 3",
   "language": "python",
   "name": "python3"
  },
  "language_info": {
   "codemirror_mode": {
    "name": "ipython",
    "version": 3
   },
   "file_extension": ".py",
   "mimetype": "text/x-python",
   "name": "python",
   "nbconvert_exporter": "python",
   "pygments_lexer": "ipython3",
   "version": "3.8.3"
  }
 },
 "nbformat": 4,
 "nbformat_minor": 4
}
